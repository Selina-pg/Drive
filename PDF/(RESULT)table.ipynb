{
 "cells": [
  {
   "cell_type": "code",
   "execution_count": 1,
   "id": "9fb44927-af46-45e1-94e7-d705c48cc0ec",
   "metadata": {},
   "outputs": [],
   "source": [
    "import os\n",
    "import re\n",
    "import matplotlib.pyplot as plt\n",
    "import pandas as pd\n",
    "from IPython.display import Markdown"
   ]
  },
  {
   "cell_type": "markdown",
   "id": "24c71fa5-f0c3-4e04-9bdd-4b7b99e7503e",
   "metadata": {},
   "source": [
    "https://paperswithcode.com/sota/document-summarization-on-cnn-daily-mail"
   ]
  },
  {
   "cell_type": "code",
   "execution_count": 2,
   "id": "79b10d19-a76f-4121-887c-54dfdb9e24ed",
   "metadata": {},
   "outputs": [],
   "source": [
    "# def print_rouge_mean_of(file_path):\n",
    "#     process_name = os.path.basename(file_path).split('.')[0].split('-',1)[1]\n",
    "#     df = pd.read_csv(file_path)\n",
    "#     names = df.columns.tolist()\n",
    "#     print(f\"====== {process_name} ======\\n\")\n",
    "#     print(f\"    average ROUGE-1 (highlights) is {df['rouge_1_hl'].mean():.4f}\")\n",
    "#     print(f\"    average ROUGE-2 (highlights) is {df['rouge_2_hl'].mean():.4f}\")\n",
    "#     print(f\"    average ROUGE-L (highlights) is {df['rouge_L_hl'].mean():.4f}\")\n",
    "#     if ('rouge_1_article' in names) and ('rouge_2_article' in names) and ('rouge_L_article' in names):\n",
    "#         print(f\"    average ROUGE-1 ( articles ) is {df['rouge_1_article'].mean():.4f}\")\n",
    "#         print(f\"    average ROUGE-2 ( articles ) is {df['rouge_2_article'].mean():.4f}\")\n",
    "#         print(f\"    average ROUGE-L ( articles ) is {df['rouge_L_article'].mean():.4f}\")\n",
    "#     return None"
   ]
  },
  {
   "cell_type": "code",
   "execution_count": 3,
   "id": "f55ad102-b5ad-40f9-989b-4e57c5720412",
   "metadata": {},
   "outputs": [],
   "source": [
    "# for file_path in os.listdir('./dat/'):\n",
    "#     if not file_path.startswith('rouge_scores-'): continue\n",
    "#     print_rouge_mean_of('./dat/'+file_path)\n",
    "#     print()"
   ]
  },
  {
   "cell_type": "markdown",
   "id": "ab2e086d-b50a-4a58-a58d-e794a70d6d9d",
   "metadata": {},
   "source": [
    "<center>\n",
    "    <b style='font-size:50pt'>\n",
    "        ROUGE Table\n",
    "    </b>\n",
    "</center>"
   ]
  },
  {
   "cell_type": "code",
   "execution_count": 21,
   "id": "3cb77945-ff52-48cb-a53b-d3222a7d498a",
   "metadata": {},
   "outputs": [
    {
     "data": {
      "text/markdown": [
       "|task|highlight<br>rouge-1|highlight<br>rouge-2|highlight<br>rouge-L|article<br>rouge-1|article<br>rouge-2|article<br>rouge-L|\n",
       "|-:|:-:|:-:|:-:|:-:|:-:|:-:|\n",
       "|                     abstracted \t| 0.1948 | 0.0948 | 0.1306 | 0.8117 | 0.7228 | 0.8031 |\n",
       "|                     compressed \t| 0.1848 | 0.0835 | 0.1224 | 0.8271 | 0.6775 | 0.8237 |\n",
       "|                    highlighted \t| 0.1674 | 0.0783 | 0.1137 | 0.8906 | 0.7501 | 0.8900 |\n",
       "|                       original \t| 0.1499 | 0.0855 | 0.1091 | 1.0000 | 1.0000 | 1.0000 |\n",
       "|                     summarized \t| 0.3350 | 0.1280 | 0.2054 | 0.3415 | 0.2241 | 0.2803 |\n",
       "|            (原始)compress + bart \t| 0.3374 | 0.1323 | 0.2183 |        |        |        |\n",
       "|              abstracted + bart \t| 0.3873 | 0.1646 | 0.2625 | 0.2043 | 0.1673 | 0.1846 |\n",
       "|              compressed + bart \t| 0.3746 | 0.1529 | 0.2540 | 0.2045 | 0.1566 | 0.1874 |\n",
       "|             highlighted + bart \t| 0.3924 | 0.1629 | 0.2676 | 0.1982 | 0.1546 | 0.1826 |\n",
       "|                original + bart \t| 0.4283 | 0.1961 | 0.2940 | 0.1994 | 0.1768 | 0.1789 |\n",
       "|              summarized + bart \t| 0.3781 | 0.1464 | 0.2495 | 0.1932 | 0.1339 | 0.1659 |\n",
       "| ollama_cnn_highlight_token_ratio \t| 0.3885 | 0.1424 | 0.2361 | 0.2512 | 0.1411 | 0.1751 |\n",
       "|     ollama_cnn_highlight_words \t| 0.4111 | 0.1506 | 0.2580 | 0.1666 | 0.0929 | 0.1206 |\n",
       "| ollama_cnn_highlight_words_ratio \t| 0.3892 | 0.1430 | 0.2365 | 0.2502 | 0.1406 | 0.1741 |\n",
       "|   ollama_highlight_token_ratio \t| 0.3413 | 0.1332 | 0.2078 | 0.3574 | 0.2137 | 0.2409 |\n",
       "|         ollama_highlight_words \t| 0.2441 | 0.1055 | 0.1559 | 0.5567 | 0.3581 | 0.3518 |\n",
       "|   ollama_highlight_words_ratio \t| 0.3418 | 0.1328 | 0.2080 | 0.3558 | 0.2129 | 0.2406 |\n",
       "| ollama_highlight_token_ratio + bart \t| 0.1731 | 0.0268 | 0.1130 | 0.0895 | 0.0266 | 0.0649 |\n",
       "|  ollama_highlight_words + bart \t| 0.3982 | 0.1518 | 0.2550 | 0.1852 | 0.1200 | 0.1385 |\n",
       "| ollama_highlight_words_ratio + bart \t| 0.3980 | 0.1470 | 0.2514 | 0.1806 | 0.1091 | 0.1325 |\n"
      ],
      "text/plain": [
       "<IPython.core.display.Markdown object>"
      ]
     },
     "metadata": {},
     "output_type": "display_data"
    }
   ],
   "source": [
    "table_string = \"|task|highlight<br>rouge-1|highlight<br>rouge-2|highlight<br>rouge-L|article<br>rouge-1|article<br>rouge-2|article<br>rouge-L|\\n\"\n",
    "table_string += \"|-:|:-:|:-:|:-:|:-:|:-:|:-:|\\n\" \n",
    "sorted_file_list = sorted(os.listdir('./dat/'), key=lambda x: 'bart' in x)\n",
    "sorted_file_list = sorted(sorted_file_list, key=lambda x: 'ollama_' in x)\n",
    "for file_path in sorted_file_list:\n",
    "    if not file_path.startswith('rouge_scores-'): continue\n",
    "    process_name = os.path.basename(file_path).split('.')[0].split('-',1)[1].replace('-',' + ')\n",
    "    \n",
    "    # if file_path.endswith('bart.csv'): continue\n",
    "    # if '(add + article)' in process_name: process_name = process_name.replace('(add + article)', '')\n",
    "    # ---\n",
    "    df = pd.read_csv('./dat/'+file_path)\n",
    "    # ---\n",
    "    output_string = f\"| {process_name:>30} \\t|\"\n",
    "    output_string += f\" {df['rouge_1_hl'].mean():.4f} | {df['rouge_2_hl'].mean():.4f} | {df['rouge_L_hl'].mean():.4f} |\"\n",
    "    # ---\n",
    "    names = df.columns.tolist()\n",
    "    if ('rouge_1_article' in names) and ('rouge_2_article' in names) and ('rouge_L_article' in names):\n",
    "        output_string += f\" {df['rouge_1_article'].mean():.4f} | {df['rouge_2_article'].mean():.4f} | {df['rouge_L_article'].mean():.4f} |\"\n",
    "    else:\n",
    "        output_string += f\"{' '*8}|{' '*8}|{' '*8}|\"\n",
    "    table_string += output_string+'\\n'\n",
    "\n",
    "display(Markdown(table_string))"
   ]
  },
  {
   "cell_type": "code",
   "execution_count": 22,
   "id": "f930b115-88e7-4883-85c6-dca0a888357f",
   "metadata": {},
   "outputs": [
    {
     "data": {
      "text/plain": [
       "0"
      ]
     },
     "execution_count": 22,
     "metadata": {},
     "output_type": "execute_result"
    }
   ],
   "source": [
    "readme = open('./README.md', 'r', encoding='utf-8').read()\n",
    "start1, end1 = readme.find(\"### ROUGE Table\"), readme.find(\"> generated by Python\")\n",
    "readme_file = open('./README.md', 'w', encoding='utf-8')\n",
    "readme_file.write(readme[:start1] + \"### ROUGE Table\\n\\n\" + table_string + '\\n' + readme[end1:])\n",
    "readme_file.close()\n",
    "\n",
    "os.system(\"git add README.md\")\n",
    "os.system(\"git commit -m 'add result table'\")\n",
    "os.system(\"git push origin main\")"
   ]
  },
  {
   "cell_type": "markdown",
   "id": "89b24686-3d79-4b28-889f-df296417feda",
   "metadata": {},
   "source": [
    "<center>\n",
    "    <b style='font-size:50pt'>\n",
    "        Generate \"ROUGE\" Table\n",
    "    </b>\n",
    "</center>"
   ]
  },
  {
   "cell_type": "code",
   "execution_count": 18,
   "id": "0e2875a3-c05d-43c5-b2c0-b27ebfe08a56",
   "metadata": {},
   "outputs": [
    {
     "data": {
      "text/markdown": [
       "|task|highlight<br>rouge-1|highlight<br>rouge-2|highlight<br>rouge-L|article<br>rouge-1|article<br>rouge-2|article<br>rouge-L|words<br>ratio|tokens<br>ratio|\n",
       "|-:|:-:|:-:|:-:|:-:|:-:|:-:|:-:|:-:|\n",
       "|                          abstracted \t| 0.1948 | 0.0948 | 0.1306 | 0.8117 | 0.7228 | 0.8031 | 0.6821 | 0.6979|\n",
       "|                          compressed \t| 0.1848 | 0.0835 | 0.1224 | 0.8271 | 0.6775 | 0.8237 | 0.6956 | 0.7124|\n",
       "|                         highlighted \t| 0.1674 | 0.0783 | 0.1137 | 0.8906 | 0.7501 | 0.8900 | 0.8068 | 0.8111|\n",
       "|                            original \t| 0.1499 | 0.0855 | 0.1091 | 1.0000 | 1.0000 | 1.0000 | 0.1048 | 0.1003|\n",
       "|                          summarized \t| 0.3350 | 0.1280 | 0.2054 | 0.3415 | 0.2241 | 0.2803 | 0.2199 | 0.2196|\n",
       "|                 (原始)compress + bart \t| 0.3374 | 0.1323 | 0.2183 |        |        |        | 0.1815 | 0.1782|\n",
       "|                   abstracted + bart \t| 0.3873 | 0.1646 | 0.2625 | 0.2043 | 0.1673 | 0.1846 | 0.1196 | 0.1170|\n",
       "|                   compressed + bart \t| 0.3746 | 0.1529 | 0.2540 | 0.2045 | 0.1566 | 0.1874 | 0.1197 | 0.1162|\n",
       "|                  highlighted + bart \t| 0.3924 | 0.1629 | 0.2676 | 0.1982 | 0.1546 | 0.1826 | 0.1199 | 0.1146|\n",
       "|                     original + bart \t| 0.4283 | 0.1961 | 0.2940 | 0.1994 | 0.1768 | 0.1789 | 0.1211 | 0.1160|\n",
       "|                   summarized + bart \t| 0.3781 | 0.1464 | 0.2495 | 0.1932 | 0.1339 | 0.1659 | 0.1195 | 0.1147|\n",
       "|    ollama_cnn_highlight_token_ratio \t| 0.3885 | 0.1424 | 0.2361 | 0.2512 | 0.1411 | 0.1751 | 0.1722 | 0.1636|\n",
       "|          ollama_cnn_highlight_words \t| 0.4111 | 0.1506 | 0.2580 | 0.1666 | 0.0929 | 0.1206 | 0.1092 | 0.1019|\n",
       "|    ollama_cnn_highlight_words_ratio \t| 0.3892 | 0.1430 | 0.2365 | 0.2502 | 0.1406 | 0.1741 | 0.1714 | 0.1629|\n",
       "|        ollama_highlight_token_ratio \t| 0.3413 | 0.1332 | 0.2078 | 0.3574 | 0.2137 | 0.2409 | 0.2571 | 0.2478|\n",
       "|              ollama_highlight_words \t| 0.2441 | 0.1055 | 0.1559 | 0.5567 | 0.3581 | 0.3518 | 0.4936 | 0.4718|\n",
       "|        ollama_highlight_words_ratio \t| 0.3418 | 0.1328 | 0.2080 | 0.3558 | 0.2129 | 0.2406 | 0.2549 | 0.2465|\n",
       "| ollama_highlight_token_ratio + bart \t| 0.1731 | 0.0268 | 0.1130 | 0.0895 | 0.0266 | 0.0649 | 0.1179 | 0.1126|\n",
       "|       ollama_highlight_words + bart \t| 0.3982 | 0.1518 | 0.2550 | 0.1852 | 0.1200 | 0.1385 | 0.1186 | 0.1146|\n",
       "| ollama_highlight_words_ratio + bart \t| 0.3980 | 0.1470 | 0.2514 | 0.1806 | 0.1091 | 0.1325 | 0.1175 | 0.1118|\n"
      ],
      "text/plain": [
       "<IPython.core.display.Markdown object>"
      ]
     },
     "metadata": {},
     "output_type": "display_data"
    }
   ],
   "source": [
    "table_string = \"|task|highlight<br>rouge-1|highlight<br>rouge-2|highlight<br>rouge-L|article<br>rouge-1|article<br>rouge-2|article<br>rouge-L\"\n",
    "table_string += \"|words<br>ratio|tokens<br>ratio|\\n\"\n",
    "table_string += \"|-:|:-:|:-:|:-:|:-:|:-:|:-:|:-:|:-:|\\n\" \n",
    "sorted_file_list = sorted(os.listdir('./dat/'), key=lambda x: 'bart' in x)\n",
    "sorted_file_list = sorted(sorted_file_list, key=lambda x: 'ollama_' in x)\n",
    "for file_path in sorted_file_list:\n",
    "    if not file_path.startswith('rouge_scores-'): continue\n",
    "    process_name = os.path.basename(file_path).split('.')[0].split('-',1)[1]\n",
    "    df = pd.read_csv('./dat/'+file_path)\n",
    "    output_string = f\"| {process_name.replace('-',' + '):>35} \\t|\"\n",
    "    output_string += f\" {df['rouge_1_hl'].mean():.4f} | {df['rouge_2_hl'].mean():.4f} | {df['rouge_L_hl'].mean():.4f} |\"\n",
    "    names = df.columns.tolist()\n",
    "    if ('rouge_1_article' in names) and ('rouge_2_article' in names) and ('rouge_L_article' in names):\n",
    "        output_string += f\" {df['rouge_1_article'].mean():.4f} | {df['rouge_2_article'].mean():.4f} | {df['rouge_L_article'].mean():.4f} |\"\n",
    "    else:\n",
    "        output_string += f\"{' '*8}|{' '*8}|{' '*8}|\"\n",
    "    # ---\n",
    "    ratio_file_path = f'ratio-{process_name}.csv'\n",
    "    if ratio_file_path in sorted_file_list:\n",
    "        ratio_df = pd.read_csv('./dat/'+ratio_file_path)\n",
    "        output_string += f' {ratio_df['token_ratio'].mean():.4f} | {ratio_df['words_ratio'].mean():.4f}|'\n",
    "    else:\n",
    "        output_string += ' | |'\n",
    "    # ---\n",
    "    table_string += output_string+'\\n'\n",
    "\n",
    "display(Markdown(table_string))"
   ]
  },
  {
   "cell_type": "code",
   "execution_count": 19,
   "id": "75cb2dcd-e9f5-45d8-b33d-11374d02a268",
   "metadata": {},
   "outputs": [
    {
     "data": {
      "text/plain": [
       "0"
      ]
     },
     "execution_count": 19,
     "metadata": {},
     "output_type": "execute_result"
    }
   ],
   "source": [
    "readme = open('./README.md', 'r', encoding='utf-8').read()\n",
    "start1, end1 = readme.find(\"### ROUGE / Ratio Table\"), readme.find(\"> The ratio is <task_article> / <cnn_article>.\")\n",
    "readme_file = open('./README.md', 'w', encoding='utf-8')\n",
    "readme_file.write(readme[:start1] + \"### ROUGE / Ratio Table\\n\\n\" + table_string + '\\n' + readme[end1:])\n",
    "readme_file.close()\n",
    "\n",
    "os.system(\"git add README.md\")\n",
    "os.system(\"git commit -m 'add result table'\")\n",
    "os.system(\"git push origin main\")"
   ]
  },
  {
   "cell_type": "code",
   "execution_count": null,
   "id": "699e07bc-b8eb-47aa-8b4a-de829688753b",
   "metadata": {},
   "outputs": [],
   "source": []
  },
  {
   "cell_type": "markdown",
   "id": "04697114-6c2a-4af3-b8b0-544d0d97ffad",
   "metadata": {},
   "source": [
    "# 其他順序的圖表"
   ]
  },
  {
   "cell_type": "code",
   "execution_count": 20,
   "id": "53aa99bc-4c0d-4135-8f57-ad8a3cdaebe1",
   "metadata": {},
   "outputs": [
    {
     "data": {
      "text/markdown": [
       "|task|highlight<br>rouge-1|highlight<br>rouge-2|highlight<br>rouge-L|article<br>rouge-1|article<br>rouge-2|article<br>rouge-L|\n",
       "|-:|:-:|:-:|:-:|:-:|:-:|:-:|\n",
       "|                     abstracted \t| 0.1948 | 0.0948 | 0.1306 | 0.8117 | 0.7228 | 0.8031 |\n",
       "|              abstracted + bart \t| 0.3873 | 0.1646 | 0.2625 | 0.2043 | 0.1673 | 0.1846 |\n",
       "|                    highlighted \t| 0.1674 | 0.0783 | 0.1137 | 0.8906 | 0.7501 | 0.8900 |\n",
       "|             highlighted + bart \t| 0.3924 | 0.1629 | 0.2676 | 0.1982 | 0.1546 | 0.1826 |\n",
       "|   ollama_highlight_token_ratio \t| 0.3413 | 0.1332 | 0.2078 | 0.3574 | 0.2137 | 0.2409 |\n",
       "| ollama_highlight_token_ratio + bart \t| 0.1731 | 0.0268 | 0.1130 | 0.0895 | 0.0266 | 0.0649 |\n",
       "|   ollama_highlight_words_ratio \t| 0.3418 | 0.1328 | 0.2080 | 0.3558 | 0.2129 | 0.2406 |\n",
       "| ollama_highlight_words_ratio + bart \t| 0.3980 | 0.1470 | 0.2514 | 0.1806 | 0.1091 | 0.1325 |\n",
       "|                     summarized \t| 0.3350 | 0.1280 | 0.2054 | 0.3415 | 0.2241 | 0.2803 |\n",
       "|              summarized + bart \t| 0.3781 | 0.1464 | 0.2495 | 0.1932 | 0.1339 | 0.1659 |\n",
       "|            (原始)compress + bart \t| 0.3374 | 0.1323 | 0.2183 |        |        |        |\n",
       "|              compressed + bart \t| 0.3746 | 0.1529 | 0.2540 | 0.2045 | 0.1566 | 0.1874 |\n",
       "|                     compressed \t| 0.1848 | 0.0835 | 0.1224 | 0.8271 | 0.6775 | 0.8237 |\n",
       "| ollama_cnn_highlight_token_ratio \t| 0.3885 | 0.1424 | 0.2361 | 0.2512 | 0.1411 | 0.1751 |\n",
       "|     ollama_cnn_highlight_words \t| 0.4111 | 0.1506 | 0.2580 | 0.1666 | 0.0929 | 0.1206 |\n",
       "| ollama_cnn_highlight_words_ratio \t| 0.3892 | 0.1430 | 0.2365 | 0.2502 | 0.1406 | 0.1741 |\n",
       "|  ollama_highlight_words + bart \t| 0.3982 | 0.1518 | 0.2550 | 0.1852 | 0.1200 | 0.1385 |\n",
       "|         ollama_highlight_words \t| 0.2441 | 0.1055 | 0.1559 | 0.5567 | 0.3581 | 0.3518 |\n",
       "|                original + bart \t| 0.4283 | 0.1961 | 0.2940 | 0.1994 | 0.1768 | 0.1789 |\n",
       "|                       original \t| 0.1499 | 0.0855 | 0.1091 | 1.0000 | 1.0000 | 1.0000 |\n"
      ],
      "text/plain": [
       "<IPython.core.display.Markdown object>"
      ]
     },
     "metadata": {},
     "output_type": "display_data"
    }
   ],
   "source": [
    "table_string = \"|task|highlight<br>rouge-1|highlight<br>rouge-2|highlight<br>rouge-L|article<br>rouge-1|article<br>rouge-2|article<br>rouge-L|\\n\"\n",
    "table_string += \"|-:|:-:|:-:|:-:|:-:|:-:|:-:|\\n\" \n",
    "rouge_file_list = list(filter(lambda x: x.startswith('rouge_score') and x.endswith('.csv'), os.listdir('./dat/')))\n",
    "sorted_file_list = []\n",
    "for file_name in rouge_file_list:\n",
    "    if f'{file_name[:-4]}-bart.csv' in rouge_file_list:\n",
    "        sorted_file_list.append(f'{file_name[:-4]}.csv')\n",
    "        sorted_file_list.append(f'{file_name[:-4]}-bart.csv')\n",
    "        rouge_file_list.remove(f'{file_name[:-4]}.csv')\n",
    "        rouge_file_list.remove(f'{file_name[:-4]}-bart.csv')\n",
    "for file_name in rouge_file_list:\n",
    "    sorted_file_list.append(file_name)\n",
    "    \n",
    "\n",
    "for file_path in sorted_file_list:\n",
    "    process_name = os.path.basename(file_path).split('.')[0].split('-',1)[1].replace('-',' + ')\n",
    "    df = pd.read_csv('./dat/'+file_path)\n",
    "    # ---\n",
    "    output_string = f\"| {process_name:>30} \\t|\"\n",
    "    output_string += f\" {df['rouge_1_hl'].mean():.4f} | {df['rouge_2_hl'].mean():.4f} | {df['rouge_L_hl'].mean():.4f} |\"\n",
    "    # ---\n",
    "    names = df.columns.tolist()\n",
    "    if ('rouge_1_article' in names) and ('rouge_2_article' in names) and ('rouge_L_article' in names):\n",
    "        output_string += f\" {df['rouge_1_article'].mean():.4f} | {df['rouge_2_article'].mean():.4f} | {df['rouge_L_article'].mean():.4f} |\"\n",
    "    else:\n",
    "        output_string += f\"{' '*8}|{' '*8}|{' '*8}|\"\n",
    "    table_string += output_string+'\\n'\n",
    "\n",
    "display(Markdown(table_string))"
   ]
  },
  {
   "cell_type": "code",
   "execution_count": null,
   "id": "896c1c76-8224-404f-be0c-dd419acf5bd2",
   "metadata": {},
   "outputs": [],
   "source": []
  }
 ],
 "metadata": {
  "kernelspec": {
   "display_name": "Python 3 (ipykernel)",
   "language": "python",
   "name": "python3"
  },
  "language_info": {
   "codemirror_mode": {
    "name": "ipython",
    "version": 3
   },
   "file_extension": ".py",
   "mimetype": "text/x-python",
   "name": "python",
   "nbconvert_exporter": "python",
   "pygments_lexer": "ipython3",
   "version": "3.12.7"
  }
 },
 "nbformat": 4,
 "nbformat_minor": 5
}
