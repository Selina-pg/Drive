{
 "cells": [
  {
   "cell_type": "code",
   "execution_count": 1,
   "id": "02fe7fab-f8f5-4623-807f-4b9ce7b03f0f",
   "metadata": {},
   "outputs": [],
   "source": [
    "import re\n",
    "import json\n",
    "import pandas as pd\n",
    "import spacy\n",
    "import ollama\n",
    "import os\n",
    "\n",
    "from tqdm import tqdm\n",
    "from datetime import datetime\n",
    "now = lambda:(datetime.now().strftime(\"%Y/%m/%d-%H:%M:%S\"))"
   ]
  },
  {
   "cell_type": "code",
   "execution_count": 2,
   "id": "35831ca0-9cf9-4046-bbd1-507eac4820b3",
   "metadata": {},
   "outputs": [],
   "source": [
    "cnn_df = pd.read_csv(\"dat/cnn_dailymail_test.csv\")\n",
    "llama_highlighted_df = pd.read_csv('./dat/cnn_dailymail_test-highlighted.csv')"
   ]
  },
  {
   "cell_type": "code",
   "execution_count": 3,
   "id": "05613275-6205-486b-b159-eafe38b0a2a6",
   "metadata": {},
   "outputs": [],
   "source": [
    "from transformers import BartTokenizer\n",
    "tokenizer = BartTokenizer.from_pretrained('facebook/bart-large-cnn')\n",
    "\n",
    "def count_token(text):\n",
    "    return len(tokenizer.encode(text, return_tensors=\"pt\", add_special_tokens=True)[0])\n",
    "\n",
    "def count_words(text):\n",
    "    return len(text.split())"
   ]
  },
  {
   "cell_type": "code",
   "execution_count": 4,
   "id": "f78e60ad-0f7e-4207-97be-83288c72ccce",
   "metadata": {},
   "outputs": [
    {
     "name": "stdout",
     "output_type": "stream",
     "text": [
      "token ratio =  cnn   highlight(41 token) / article(694 token) = 0.059077809798270896\n",
      "token ratio = ollama highlight(475 token) / article(694 token) = 0.6844380403458213\n",
      "\n",
      "words ratio =  cnn   highlight(36 words) / article(567 words) = 0.06349206349206349\n",
      "words ratio = ollama highlight(408 words) / article(567 words) = 0.7195767195767195\n",
      "\n"
     ]
    }
   ],
   "source": [
    "_cnn_article = cnn_df['article'][0]\n",
    "_cnn_highlight = cnn_df['highlights'][0]\n",
    "_ollama_highlight = llama_highlighted_df['article'][0]\n",
    "\n",
    "_cnn_article_token = count_token(_cnn_article)\n",
    "_cnn_highlight_token = count_token(_cnn_highlight)\n",
    "_ollama_highlight_token = count_token(_ollama_highlight)\n",
    "\n",
    "_cnn_article_words = count_words(_cnn_article)\n",
    "_cnn_highlight_words = count_words(_cnn_highlight)\n",
    "_ollama_highlight_words = count_words(_ollama_highlight)\n",
    "\n",
    "# ==================================================\n",
    "_cnn_ratio_token = _cnn_highlight_token/_cnn_article_token\n",
    "_ollama_ratio_token = _ollama_highlight_token/_cnn_article_token\n",
    "_cnn_ratio_words = _cnn_highlight_words/_cnn_article_words\n",
    "_ollama_ratio_words = _ollama_highlight_words/_cnn_article_words\n",
    "\n",
    "print(f\"token ratio =  cnn   highlight({_cnn_highlight_token} token) / article({_cnn_article_token} token) = {_cnn_ratio_token}\")\n",
    "print(f\"token ratio = ollama highlight({_ollama_highlight_token} token) / article({_cnn_article_token} token) = {_ollama_ratio_token}\\n\")\n",
    "\n",
    "print(f\"words ratio =  cnn   highlight({_cnn_highlight_words} words) / article({_cnn_article_words} words) = {_cnn_ratio_words}\")\n",
    "print(f\"words ratio = ollama highlight({_ollama_highlight_words} words) / article({_cnn_article_words} words) = {_ollama_ratio_words}\\n\")"
   ]
  },
  {
   "cell_type": "markdown",
   "id": "74bef75b-2c1c-4954-acc7-12577cea3117",
   "metadata": {},
   "source": [
    "---\n",
    "\n",
    "<center>\n",
    "    <b style='font-size:100pt'>\n",
    "        計算過程\n",
    "    </b>\n",
    "</center>\n",
    "\n",
    "---"
   ]
  },
  {
   "cell_type": "code",
   "execution_count": 9,
   "id": "f9838c87-0859-45ce-92f7-93d926ca2fc6",
   "metadata": {},
   "outputs": [
    {
     "name": "stdout",
     "output_type": "stream",
     "text": [
      "cnn_dailymail_test-(原始)compress-bart.csv\n",
      "cnn_dailymail_test-abstracted-bart.csv\n",
      "cnn_dailymail_test-abstracted.csv\n",
      "cnn_dailymail_test-compressed-bart.csv\n",
      "cnn_dailymail_test-compressed.csv\n",
      "cnn_dailymail_test-highlighted-bart.csv\n",
      "cnn_dailymail_test-highlighted.csv\n",
      "cnn_dailymail_test-ollama_cnn_highlight_token_ratio.csv\n",
      "cnn_dailymail_test-ollama_cnn_highlight_words.csv\n",
      "cnn_dailymail_test-ollama_cnn_highlight_words_ratio.csv\n",
      "cnn_dailymail_test-ollama_highlight_token_ratio-bart.csv\n",
      "cnn_dailymail_test-ollama_highlight_token_ratio.csv\n",
      "cnn_dailymail_test-ollama_highlight_words-bart.csv\n",
      "cnn_dailymail_test-ollama_highlight_words.csv\n",
      "cnn_dailymail_test-ollama_highlight_words_ratio-bart.csv\n",
      "cnn_dailymail_test-ollama_highlight_words_ratio.csv\n",
      "cnn_dailymail_test-original-bart.csv\n",
      "cnn_dailymail_test-original.csv\n",
      "cnn_dailymail_test-summarized-bart.csv\n",
      "cnn_dailymail_test-summarized.csv\n",
      "cnn_dailymail_test.csv\n"
     ]
    }
   ],
   "source": [
    "process_names = []\n",
    "for file_path in os.listdir('dat'):\n",
    "    if not file_path.endswith('.csv') or not file_path.startswith('cnn_dailymail_test'): continue\n",
    "    if('token_count' in file_path): continue\n",
    "    print(file_path)\n",
    "    process_name = file_path.split('cnn_dailymail_test')[1].split('.csv')[0]\n",
    "    if(process_name):\n",
    "        process_names.append(process_name[1:])"
   ]
  },
  {
   "cell_type": "code",
   "execution_count": 10,
   "id": "23cd1897-1565-4b0d-a5c6-17d4d55709c3",
   "metadata": {},
   "outputs": [
    {
     "name": "stdout",
     "output_type": "stream",
     "text": [
      "                  (原始)compress-bart:\tid, article - (11490, 2)\n",
      "                    abstracted-bart:\tid, article - (11490, 2)\n",
      "                         abstracted:\tid, article - (11490, 2)\n",
      "                    compressed-bart:\tid, article - (11490, 2)\n",
      "                         compressed:\tid, article - (11490, 2)\n",
      "                   highlighted-bart:\tid, article - (11490, 2)\n",
      "                        highlighted:\tid, article - (11490, 2)\n",
      "   ollama_cnn_highlight_token_ratio:\tid, article - (11490, 2)\n",
      "         ollama_cnn_highlight_words:\tid, article - (11490, 2)\n",
      "   ollama_cnn_highlight_words_ratio:\tid, article - (11490, 2)\n",
      "  ollama_highlight_token_ratio-bart:\tid, article - (11490, 2)\n",
      "       ollama_highlight_token_ratio:\tid, article - (11490, 2)\n",
      "        ollama_highlight_words-bart:\tid, article - (11490, 2)\n",
      "             ollama_highlight_words:\tid, article - (11490, 2)\n",
      "  ollama_highlight_words_ratio-bart:\tid, article - (11490, 2)\n",
      "       ollama_highlight_words_ratio:\tid, article - (11490, 2)\n",
      "                      original-bart:\tid, article - (11489, 2)\n",
      "                           original:\tarticle, highlights, id - (11490, 3)\n",
      "                    summarized-bart:\tid, article - (11489, 2)\n",
      "                         summarized:\tid, article - (11490, 2)\n"
     ]
    }
   ],
   "source": [
    "dataset = \"cnn_dailymail_test\" # 這是檔案名稱前面的 dataset\n",
    "dfs = {}\n",
    "for process_name in process_names:\n",
    "    if(process_name=='original'):\n",
    "        df = pd.read_csv(f\"./dat/{dataset}.csv\")\n",
    "    else:\n",
    "        df = pd.read_csv(f\"./dat/{dataset}-{process_name}.csv\")\n",
    "    dfs[process_name] = df\n",
    "    #---\n",
    "    print(f\"{process_name:>35}:\\t{', '.join(df.columns.tolist())} - {df.shape}\")"
   ]
  },
  {
   "cell_type": "code",
   "execution_count": 11,
   "id": "5aded631-d676-4228-af3f-99d70f0fb513",
   "metadata": {},
   "outputs": [
    {
     "name": "stdout",
     "output_type": "stream",
     "text": [
      "2024/11/25-18:44:19\n"
     ]
    },
    {
     "name": "stderr",
     "output_type": "stream",
     "text": [
      "compress ratio-ollama_highlight_words_ratio-bart  \t: 100%|██████████████████████| 11490/11490 [00:42<00:00, 267.38it/s]\n"
     ]
    },
    {
     "name": "stdout",
     "output_type": "stream",
     "text": [
      "<token_ratio> = 0.11746585988740932\n",
      "<words_ratio> = 0.11178144646179852\n",
      "\n",
      "2024/11/25-18:45:02\n"
     ]
    }
   ],
   "source": [
    "all_dat_file = os.listdir('dat')\n",
    "for process_name in dfs:\n",
    "    output_filepath = f'./dat/ratio-{process_name}.csv'\n",
    "    if any ((file_name in output_filepath) for file_name in all_dat_file):\n",
    "        continue\n",
    "    df = dfs[process_name]\n",
    "    total_len = df['article'].shape[0]\n",
    "    token_ratios = []\n",
    "    words_ratios = []\n",
    "    article_key = 'article'\n",
    "    if process_name=='original':\n",
    "        article_key = 'highlights'\n",
    "    print(now())\n",
    "    for index in tqdm(range(total_len), desc=f\"compress ratio-{process_name:<35}\\t\", total=total_len):\n",
    "        token_ratio = count_token(df[article_key][index]) / count_token(cnn_df['article'][index])\n",
    "        words_ratio = count_words(df[article_key][index]) / count_words(cnn_df['article'][index])\n",
    "        token_ratios.append(token_ratio)\n",
    "        words_ratios.append(words_ratio)\n",
    "    ratio_df = pd.DataFrame({\n",
    "        'token_ratio': token_ratios,\n",
    "        'words_ratio': words_ratios\n",
    "    })\n",
    "    #---\n",
    "    for retry in range(100):\n",
    "        if not os.path.isfile(output_filepath): break\n",
    "        output_filepath = f'./dat/ratio-{process_name}-copy{retry+1}.csv'\n",
    "    ratio_df.to_csv(output_filepath, index=False)\n",
    "    #---\n",
    "    print(f'<token_ratio> = {ratio_df['token_ratio'].mean()}\\n<words_ratio> = {ratio_df['words_ratio'].mean()}\\n')\n",
    "print(now())"
   ]
  },
  {
   "cell_type": "raw",
   "id": "9fe7c3e9-a87f-4cfa-aa47-e192c8705f68",
   "metadata": {},
   "source": [
    "2024/11/21-12:26:56\n",
    "compress ratio-(原始)compress-bart                  \t: 100%|████████████████████| 11490/11490 [00:49<00:00, 232.86it/s]\n",
    "<token_ratio> = 0.18149424556767652\n",
    "<words_ratio> = 0.17815842181297822\n",
    "\n",
    "2024/11/21-12:27:46\n",
    "compress ratio-abstracted-bart                    \t: 100%|██████████████████████| 11490/11490 [00:42<00:00, 267.81it/s]\n",
    "<token_ratio> = 0.11960113909956377\n",
    "<words_ratio> = 0.11703114233674732\n",
    "\n",
    "2024/11/21-12:28:29\n",
    "compress ratio-abstracted                         \t: 100%|██████████████████████| 11490/11490 [01:04<00:00, 177.24it/s]\n",
    "<token_ratio> = 0.6821227975349491\n",
    "<words_ratio> = 0.6978513039972497\n",
    "\n",
    "2024/11/21-12:29:34\n",
    "compress ratio-compressed-bart                    \t: 100%|██████████████████████| 11490/11490 [00:42<00:00, 267.37it/s]\n",
    "<token_ratio> = 0.11971515062021536\n",
    "<words_ratio> = 0.11616062130192341\n",
    "\n",
    "2024/11/21-12:30:17\n",
    "compress ratio-compressed                         \t: 100%|██████████████████████| 11490/11490 [01:06<00:00, 173.80it/s]\n",
    "<token_ratio> = 0.6955600182532979\n",
    "<words_ratio> = 0.7123855002791767\n",
    "\n",
    "2024/11/21-12:31:23\n",
    "compress ratio-highlighted-bart                   \t: 100%|██████████████████████| 11490/11490 [00:42<00:00, 269.17it/s]\n",
    "<token_ratio> = 0.11992428715897079\n",
    "<words_ratio> = 0.11455113823797539\n",
    "\n",
    "2024/11/21-12:32:05\n",
    "compress ratio-highlighted                        \t: 100%|██████████████████████| 11490/11490 [01:09<00:00, 164.66it/s]\n",
    "<token_ratio> = 0.8067734043460831\n",
    "<words_ratio> = 0.8110608635067329\n",
    "\n",
    "2024/11/21-12:33:15\n",
    "compress ratio-ollama_cnn_highlight_token_ratio   \t: 100%|██████████████████████| 11490/11490 [00:46<00:00, 248.70it/s]\n",
    "<token_ratio> = 0.17218343619276527\n",
    "<words_ratio> = 0.16356608310857118\n",
    "\n",
    "2024/11/21-12:34:02\n",
    "compress ratio-ollama_highlight_token_ratio-bart  \t: 100%|██████████████████████| 11490/11490 [00:42<00:00, 269.41it/s]\n",
    "<token_ratio> = 0.11789344002740203\n",
    "<words_ratio> = 0.11262506261504568\n",
    "\n",
    "2024/11/21-12:34:44\n",
    "compress ratio-ollama_highlight_token_ratio       \t: 100%|██████████████████████| 11490/11490 [00:47<00:00, 241.47it/s]\n",
    "<token_ratio> = 0.2570957164623874\n",
    "<words_ratio> = 0.24779001901424144\n",
    "\n",
    "2024/11/21-12:35:32\n",
    "compress ratio-ollama_highlight_words-bart        \t: 100%|██████████████████████| 11490/11490 [00:41<00:00, 273.84it/s]\n",
    "<token_ratio> = 0.11861368507199978\n",
    "<words_ratio> = 0.11458506107854326\n",
    "\n",
    "2024/11/25-18:44:19\n",
    "compress ratio-ollama_highlight_words_ratio-bart  \t: 100%|██████████████████████| 11490/11490 [00:42<00:00, 267.38it/s]\n",
    "<token_ratio> = 0.11746585988740932\n",
    "<words_ratio> = 0.11178144646179852\n",
    "\n",
    "2024/11/21-12:36:14\n",
    "compress ratio-ollama_highlight_words             \t: 100%|██████████████████████| 11490/11490 [00:55<00:00, 208.20it/s]\n",
    "<token_ratio> = 0.49359967771169583\n",
    "<words_ratio> = 0.47178174418167285\n",
    "\n",
    "2024/11/21-12:37:09\n",
    "compress ratio-ollama_words                       \t: 100%|██████████████████████| 11490/11490 [00:43<00:00, 264.44it/s]\n",
    "<token_ratio> = 0.1091852815446165\n",
    "<words_ratio> = 0.10193960703047879\n",
    "\n",
    "2024/11/25-11:22:50\n",
    "compress ratio-ollama_cnn_highlight_words_ratio   \t: 100%|██████████████████████| 11490/11490 [00:49<00:00, 233.62it/s]\n",
    "<token_ratio> = 0.17143808977230884\n",
    "<words_ratio> = 0.16286799861488335\n",
    "\n",
    "2024/11/25-11:23:39\n",
    "compress ratio-ollama_highlight_words_ratio       \t: 100%|██████████████████████| 11490/11490 [00:47<00:00, 243.18it/s]\n",
    "<token_ratio> = 0.2549201255239379\n",
    "<words_ratio> = 0.2464964826351357\n",
    "\n",
    "2024/11/21-12:37:53\n",
    "compress ratio-original-bart                      \t: 100%|██████████████████████| 11489/11489 [00:43<00:00, 262.96it/s]\n",
    "<token_ratio> = 0.12107711341890948\n",
    "<words_ratio> = 0.11596566353136703\n",
    "\n",
    "2024/11/21-12:38:36\n",
    "compress ratio-original                           \t: 100%|██████████████████████| 11490/11490 [01:17<00:00, 148.90it/s]\n",
    "<token_ratio> = 1.0\n",
    "<words_ratio> = 1.0\n",
    "\n",
    "2024/11/21-13:09:08\n",
    "compress ratio-original                           \t: 100%|██████████████████████| 11490/11490 [00:44<00:00, 256.40it/s]\n",
    "<token_ratio> = 0.10476843832766948\n",
    "<words_ratio> = 0.10030218167695168\n",
    "\n",
    "2024/11/21-12:39:53\n",
    "compress ratio-summarized-bart                    \t: 100%|██████████████████████| 11489/11489 [00:43<00:00, 265.94it/s]\n",
    "<token_ratio> = 0.11948216840811085\n",
    "<words_ratio> = 0.11472355391857272\n",
    "\n",
    "2024/11/21-12:40:37\n",
    "compress ratio-summarized                         \t: 100%|██████████████████████| 11490/11490 [00:47<00:00, 239.62it/s]\n",
    "<token_ratio> = 0.21992558411046678\n",
    "<words_ratio> = 0.21957165015410562\n",
    "\n",
    "2024/11/21-12:41:25"
   ]
  }
 ],
 "metadata": {
  "kernelspec": {
   "display_name": "Python 3 (ipykernel)",
   "language": "python",
   "name": "python3"
  },
  "language_info": {
   "codemirror_mode": {
    "name": "ipython",
    "version": 3
   },
   "file_extension": ".py",
   "mimetype": "text/x-python",
   "name": "python",
   "nbconvert_exporter": "python",
   "pygments_lexer": "ipython3",
   "version": "3.12.7"
  }
 },
 "nbformat": 4,
 "nbformat_minor": 5
}
