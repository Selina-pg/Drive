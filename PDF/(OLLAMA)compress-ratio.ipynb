{
 "cells": [
  {
   "cell_type": "code",
   "execution_count": 2,
   "id": "02fe7fab-f8f5-4623-807f-4b9ce7b03f0f",
   "metadata": {},
   "outputs": [],
   "source": [
    "import re\n",
    "import json\n",
    "import pandas as pd\n",
    "import spacy\n",
    "import ollama\n",
    "\n",
    "from tqdm import tqdm"
   ]
  },
  {
   "cell_type": "code",
   "execution_count": 3,
   "id": "35831ca0-9cf9-4046-bbd1-507eac4820b3",
   "metadata": {},
   "outputs": [],
   "source": [
    "df = pd.read_csv(\"dat/cnn_dailymail_test.csv\")"
   ]
  },
  {
   "cell_type": "code",
   "execution_count": 4,
   "id": "05613275-6205-486b-b159-eafe38b0a2a6",
   "metadata": {},
   "outputs": [],
   "source": [
    "def ask_ollama(content, system, model='llama3.1'):\n",
    "\tresponse = ollama.chat(model=model, messages=[\n",
    "\t\t{ 'role': 'system', 'content': system },\n",
    "\t\t{ 'role': 'user', 'content': content },\n",
    "\t])\n",
    "\treturn response['message']['content']"
   ]
  },
  {
   "cell_type": "code",
   "execution_count": 5,
   "id": "f78e60ad-0f7e-4207-97be-83288c72ccce",
   "metadata": {},
   "outputs": [],
   "source": [
    "system_prompt_ratio = lambda ratio: f\"\"\"\\\n",
    "Please compress the following article to approximately {ratio} of its original token count, \\\n",
    "capturing only the main events and essential details. \\\n",
    "The output should be a direct, concise summary without any extra commentary or introductory text.\\\n",
    "\"\"\"\n",
    "\n",
    "system_prompt_token = lambda token: f\"\"\"\\\n",
    "Please summarize the following article to approximately {token} tokens, \\\n",
    "capturing only the main events and essential details. \\\n",
    "The output should be a direct, concise summary without any extra commentary or introductory text.\\\n",
    "\"\"\"\n",
    "\n",
    "system_prompt_words = lambda word: f\"\"\"\\\n",
    "Please summarize the following article to approximately {word} words, \\\n",
    "capturing only the main events and essential details. \\\n",
    "The output should be a direct, concise summary without any extra commentary or introductory text.\\\n",
    "\"\"\""
   ]
  },
  {
   "cell_type": "markdown",
   "id": "f025dbea-99ac-4e58-8ad2-13b7a71b1da8",
   "metadata": {},
   "source": [
    "# 用 token 的「比例」和「數量」為目標，讓 llama3.1 改寫"
   ]
  },
  {
   "cell_type": "code",
   "execution_count": 6,
   "id": "e1325258-e9d4-4176-8f6a-84bc98c02814",
   "metadata": {},
   "outputs": [
    {
     "name": "stdout",
     "output_type": "stream",
     "text": [
      "token ratio = highlight(41 token) / article(694 token) = 0.059077809798270896\n",
      "\n",
      "\n",
      "ratio result (169 token):\n",
      "The Palestinian Authority joined the International Criminal Court (ICC) as its 123rd member, giving the court jurisdiction over alleged crimes in Palestinian territories. The accession was marked with a ceremony at The Hague, where Palestinians signed the ICC's founding Rome Statute in January and accepted its jurisdiction since June 13, 2014. This move allows for possible war crimes investigations against Israelis, as well as subjecting Palestinians to counter-charges. Israel and the US opposed the Palestinian efforts, but Palestinian Foreign Minister Riad al-Malki hailed it as a step towards greater justice and peace. Rights group Human Rights Watch welcomed the development, urging governments to end pressure on Palestine for joining the ICC. The ICC will conduct a preliminary examination into alleged war crimes committed in Palestinian territories since June 2014, which could lead to investigations against Israelis and Palestinians alike.\n",
      "\n",
      "\n",
      "token result (99 token):\n",
      "The Palestinian Authority became the 123rd member of the International Criminal Court on Wednesday, giving it jurisdiction over alleged crimes in Palestinian territories. The move was marked with a ceremony at The Hague. Palestinians may face counter-charges as well. Israel and the US opposed the membership. A preliminary ICC examination into Israeli-Palestinian conflicts has been underway since January. The court will review evidence for possible war crimes investigations against Israelis, including those from last summer's Gaza conflict killing over 2,000 people.\n",
      "\n",
      "\n"
     ]
    }
   ],
   "source": [
    "from transformers import BartTokenizer\n",
    "\n",
    "tokenizer = BartTokenizer.from_pretrained('facebook/bart-large-cnn')\n",
    "def count_token(text):\n",
    "    return len(tokenizer.encode(text, return_tensors=\"pt\", add_special_tokens=True)[0])\n",
    "\n",
    "_article = df['article'][0]\n",
    "_highlight = df['highlights'][0]\n",
    "\n",
    "_article_token = count_token(_article)\n",
    "_highlight_token = count_token(_highlight)\n",
    "_ratio_token = _highlight_token / _article_token\n",
    "print(f\"token ratio = highlight({_highlight_token} token) / article({_article_token} token) = {_ratio_token}\\n\\n\")\n",
    "\n",
    "token_ratio_result = ask_ollama(_article, system_prompt_ratio(_ratio_token))\n",
    "print(f\"ratio result ({count_token(token_ratio_result)} token):\\n{token_ratio_result}\\n\\n\")\n",
    "\n",
    "token_result = ask_ollama(_article, system_prompt_token(_highlight_token))\n",
    "print(f\"token result ({count_token(token_result)} token):\\n{token_result}\\n\\n\")"
   ]
  },
  {
   "cell_type": "markdown",
   "id": "24bd6b65-b487-4305-bda2-a6c74dc06902",
   "metadata": {},
   "source": [
    "# 用 word 的「比例」和「數量」為目標，讓 llama3.1 改寫"
   ]
  },
  {
   "cell_type": "code",
   "execution_count": 7,
   "id": "ae63b910-bda5-4e9c-90d2-1e52e0b77726",
   "metadata": {},
   "outputs": [
    {
     "name": "stdout",
     "output_type": "stream",
     "text": [
      "words ratio = highlight(36 words) / article(567 words) = 0.06349206349206349\n",
      "\n",
      "\n",
      "ratio result (78 words):\n",
      "Palestinians became the 123rd member of the International Criminal Court (ICC), giving it jurisdiction over alleged crimes in Palestinian territories. The ICC will now review evidence for possible investigations into war crimes committed by Israelis, with Palestinians potentially facing counter-charges. Israel and the US opposed Palestine's membership bid. A preliminary examination was opened last January, following Palestine's signing of the Rome Statute. The ICC sees \"Palestine\" as a state for its purposes, despite international disagreement on this definition.\n",
      "\n",
      "\n",
      "words result (29 words):\n",
      "The Palestinian Authority joined the International Criminal Court as its 123rd member, giving the court jurisdiction over alleged crimes in Palestinian territories, despite opposition from Israel and the US.\n",
      "\n",
      "\n"
     ]
    }
   ],
   "source": [
    "def count_words(text):\n",
    "    return len(text.split())\n",
    "\n",
    "_article = df['article'][0]\n",
    "_highlight = df['highlights'][0]\n",
    "\n",
    "_article_words = count_words(_article)\n",
    "_highlight_words = count_words(_highlight)\n",
    "_ratio_words = _highlight_words / _article_words\n",
    "print(f\"words ratio = highlight({_highlight_words} words) / article({_article_words} words) = {_ratio_words}\\n\\n\")\n",
    "\n",
    "words_ratio_result = ask_ollama(_article, system_prompt_ratio(_ratio_words))\n",
    "print(f\"ratio result ({count_words(words_ratio_result)} words):\\n{words_ratio_result}\\n\\n\")\n",
    "\n",
    "words_result = ask_ollama(_article, system_prompt_words(_highlight_words))\n",
    "print(f\"words result ({count_words(words_result)} words):\\n{words_result}\\n\\n\")"
   ]
  },
  {
   "cell_type": "code",
   "execution_count": 8,
   "id": "91476e72-ab9a-4ea6-9c77-43ddb240b04d",
   "metadata": {},
   "outputs": [
    {
     "name": "stdout",
     "output_type": "stream",
     "text": [
      "token_ratio_rouge : (0.3181818181818182, 0.2068965517241379, 0.2613636363636364)\n",
      "words_ratio_rouge : (0.4347826086956521, 0.17699115044247787, 0.2608695652173913)\n",
      "token_rouge       : (0.4201680672268907, 0.22222222222222224, 0.319327731092437)\n",
      "words_rouge       : (0.4444444444444445, 0.26229508196721313, 0.38095238095238093)\n",
      "\n"
     ]
    }
   ],
   "source": [
    "from rouge_score import rouge_scorer\n",
    "def calculate_rouge_scores(reference_text, generated_text):\n",
    "    scorer = rouge_scorer.RougeScorer(['rouge1', 'rouge2', 'rougeL'], use_stemmer=True)\n",
    "    scores = scorer.score(reference_text, generated_text)\n",
    "    rouge_1 = scores['rouge1'].fmeasure\n",
    "    rouge_2 = scores['rouge2'].fmeasure\n",
    "    rouge_L = scores['rougeL'].fmeasure\n",
    "    return rouge_1, rouge_2, rouge_L\n",
    "\n",
    "token_ratio_rouge = calculate_rouge_scores(token_ratio_result, _highlight)\n",
    "words_ratio_rouge = calculate_rouge_scores(words_ratio_result, _highlight)\n",
    "token_rouge = calculate_rouge_scores(token_result, _highlight)\n",
    "words_rouge = calculate_rouge_scores(words_result, _highlight)\n",
    "\n",
    "print(f\"\"\"\\\n",
    "token_ratio_rouge : {token_ratio_rouge}\n",
    "words_ratio_rouge : {words_ratio_rouge}\n",
    "token_rouge       : {token_rouge}\n",
    "words_rouge       : {words_rouge}\n",
    "\"\"\")"
   ]
  },
  {
   "cell_type": "markdown",
   "id": "74bef75b-2c1c-4954-acc7-12577cea3117",
   "metadata": {},
   "source": [
    "---\n",
    "\n",
    "<center>\n",
    "    <b style='font-size:100pt'>\n",
    "        實驗過程\n",
    "    </b>\n",
    "</center>\n",
    "\n",
    "---"
   ]
  },
  {
   "cell_type": "markdown",
   "id": "fb5c1af8-fa2b-4f30-813a-23a0be301aac",
   "metadata": {},
   "source": [
    "# (完成)ollam 用 「cnn highlight 的 words 數量」為目標改寫\n",
    "[2:18:57<00:00,  1.38it/s]"
   ]
  },
  {
   "cell_type": "code",
   "execution_count": 8,
   "id": "36726504-bdd4-473e-b50b-99146251303c",
   "metadata": {},
   "outputs": [],
   "source": [
    "# SAVE_RESULT_PATH = \"./dat/cnn_dailymail_test-ollama_words.dat\"  # 儲存檔案名稱\n",
    "# SAVE_EVERY_NUM = 5  # 每跑完幾筆資料就儲存\n",
    "# TEMPORARY_SAVE_STRING = \"\"  # 暫時儲存字串\n",
    "# START_INDEX = 0  # 開始的索引\n",
    "# for index, row in tqdm(df.iloc[START_INDEX:].iterrows(), total=len(df) - START_INDEX, desc=\"highlight articles\"):\n",
    "#     try:\n",
    "#         article_id = row['id']\n",
    "#         article = row['article']\n",
    "        \n",
    "#         highlight_words = count_words(row['highlights'])\n",
    "#         words_result = ask_ollama(article, system_prompt_words(highlight_words))\n",
    "        \n",
    "#         TEMPORARY_SAVE_STRING += f\"{article_id}, {json.dumps(words_result)}\\n\"\n",
    "\n",
    "#         if index % SAVE_EVERY_NUM == 0:\n",
    "#             with open(SAVE_RESULT_PATH, \"a\") as file:\n",
    "#                 file.write(TEMPORARY_SAVE_STRING)\n",
    "#             TEMPORARY_SAVE_STRING = \"\"  # 清空暫存字串\n",
    "#     except Exception as e:\n",
    "#         print(f\"Error processing row {index}: {e}\")\n",
    "# if TEMPORARY_SAVE_STRING:\n",
    "#     with open(SAVE_RESULT_PATH, \"a\") as file:\n",
    "#         file.write(TEMPORARY_SAVE_STRING)\n",
    "\n",
    "# print(\"Processing complete and all summaries have been saved step-by-step in JSON.\")"
   ]
  },
  {
   "cell_type": "markdown",
   "id": "e39f027b-addf-4928-9611-ffa8f935b2fc",
   "metadata": {},
   "source": [
    "# (完成)ollam 用 「 llama highlight / cnn article 的 token 比例」為目標改寫\n",
    "[5:09:48<00:00,  1.62s/it]"
   ]
  },
  {
   "cell_type": "code",
   "execution_count": 9,
   "id": "e73ea575-fef7-4b30-b20d-d761558e787d",
   "metadata": {},
   "outputs": [],
   "source": [
    "llama_highlighted = pd.read_csv('./dat/cnn_dailymail_test-highlighted.csv')"
   ]
  },
  {
   "cell_type": "code",
   "execution_count": 11,
   "id": "c044ac89-3709-43d4-b05e-df8a8e1d180b",
   "metadata": {},
   "outputs": [],
   "source": [
    "# SAVE_RESULT_PATH = \"./dat/cnn_dailymail_test-ollama_highlight_token_ratio.dat\"  # 儲存檔案名稱\n",
    "# SAVE_EVERY_NUM = 5  # 每跑完幾筆資料就儲存\n",
    "# TEMPORARY_SAVE_STRING = \"\"  # 暫時儲存字串\n",
    "# START_INDEX = 0  # 開始的索引\n",
    "# for index, row in tqdm(df.iloc[START_INDEX:].iterrows(), total=len(df) - START_INDEX, desc=\"highlight articles\"):\n",
    "#     try:\n",
    "#         article_id = row['id']\n",
    "#         article = row['article']\n",
    "#         llama_highlighted_article = llama_highlighted['article'][index]\n",
    "\n",
    "#         ratio = count_token(llama_highlighted_article) / count_token(article)\n",
    "#         words_result = ask_ollama(article, system_prompt_ratio(f'{ratio:.2f}'))\n",
    "        \n",
    "#         TEMPORARY_SAVE_STRING += f\"{article_id}, {json.dumps(words_result)}\\n\"\n",
    "\n",
    "#         if index % SAVE_EVERY_NUM == 0:\n",
    "#             with open(SAVE_RESULT_PATH, \"a\") as file:\n",
    "#                 file.write(TEMPORARY_SAVE_STRING)\n",
    "#             TEMPORARY_SAVE_STRING = \"\"  # 清空暫存字串\n",
    "#     except Exception as e:\n",
    "#         print(f\"Error processing row {index}: {e}\")\n",
    "# if TEMPORARY_SAVE_STRING:\n",
    "#     with open(SAVE_RESULT_PATH, \"a\") as file:\n",
    "#         file.write(TEMPORARY_SAVE_STRING)\n",
    "\n",
    "# print(\"Processing complete and all summaries have been saved step-by-step in JSON.\")"
   ]
  },
  {
   "cell_type": "markdown",
   "id": "2583a789-70a2-40bf-8ea0-4854fc575336",
   "metadata": {},
   "source": [
    "# (完成)ollam 用 「 llama highlight 的 words 數量」為目標改寫\n",
    "[9:53:52<00:00,  3.10s/it]"
   ]
  },
  {
   "cell_type": "code",
   "execution_count": 30,
   "id": "126627cf-6ab1-433f-b8a7-4db37f8220b2",
   "metadata": {},
   "outputs": [],
   "source": [
    "# SAVE_RESULT_PATH = \"./dat/cnn_dailymail_test-ollama_highlight_words.dat\"  # 儲存檔案名稱\n",
    "# SAVE_EVERY_NUM = 5  # 每跑完幾筆資料就儲存\n",
    "# TEMPORARY_SAVE_STRING = \"\"  # 暫時儲存字串\n",
    "# START_INDEX = 0  # 開始的索引\n",
    "# for index, row in tqdm(df.iloc[START_INDEX:].iterrows(), total=len(df) - START_INDEX, desc=\"rewrite articles\"):\n",
    "#     try:\n",
    "#         article_id = row['id']\n",
    "#         article = row['article']\n",
    "#         llama_highlighted_article = llama_highlighted['article'][index]\n",
    "\n",
    "#         llama_highlighted_words = count_words(llama_highlighted_article)\n",
    "#         words_result = ask_ollama(article, system_prompt_words(llama_highlighted_words))\n",
    "        \n",
    "#         TEMPORARY_SAVE_STRING += f\"{article_id}, {json.dumps(words_result)}\\n\"\n",
    "\n",
    "#         if index % SAVE_EVERY_NUM == 0:\n",
    "#             with open(SAVE_RESULT_PATH, \"a\") as file:\n",
    "#                 file.write(TEMPORARY_SAVE_STRING)\n",
    "#             TEMPORARY_SAVE_STRING = \"\"  # 清空暫存字串\n",
    "#     except Exception as e:\n",
    "#         print(f\"Error processing row {index}: {e}\")\n",
    "# if TEMPORARY_SAVE_STRING:\n",
    "#     with open(SAVE_RESULT_PATH, \"a\") as file:\n",
    "#         file.write(TEMPORARY_SAVE_STRING)\n",
    "\n",
    "# print(\"Processing complete and all summaries have been saved step-by-step in JSON.\")"
   ]
  },
  {
   "cell_type": "markdown",
   "id": "e1664c96-14e7-4c4d-ab80-a43c0eee85af",
   "metadata": {},
   "source": [
    "# (完成)ollam 用 「cnn highlight 的 token 比例」為目標改寫\n",
    "\n",
    "[3:27:53]"
   ]
  },
  {
   "cell_type": "code",
   "execution_count": 13,
   "id": "812cbd06-ea54-4283-b2ed-8bedca3fd945",
   "metadata": {},
   "outputs": [],
   "source": [
    "# SAVE_RESULT_PATH = \"./dat/cnn_dailymail_test-ollama_cnn_highlight_token_ratio.dat\"  # 儲存檔案名稱\n",
    "# SAVE_EVERY_NUM = 5  # 每跑完幾筆資料就儲存\n",
    "# TEMPORARY_SAVE_STRING = \"\"  # 暫時儲存字串\n",
    "# START_INDEX = 0  # 開始的索引\n",
    "# for index, row in tqdm(df.iloc[START_INDEX:].iterrows(), total=len(df) - START_INDEX, desc=\"highlight articles\"):\n",
    "#     try:\n",
    "#         article_id = row['id']\n",
    "#         article = row['article']\n",
    "#         cnn_highlights_article = row['highlights']\n",
    "        \n",
    "#         ratio = count_token(cnn_highlights_article) / count_token(article)\n",
    "#         words_result = ask_ollama(article, system_prompt_ratio(f'{ratio:.2f}'))\n",
    "        \n",
    "#         TEMPORARY_SAVE_STRING += f\"{article_id}, {json.dumps(words_result)}\\n\"\n",
    "\n",
    "#         if index % SAVE_EVERY_NUM == 0:\n",
    "#             with open(SAVE_RESULT_PATH, \"a\") as file:\n",
    "#                 file.write(TEMPORARY_SAVE_STRING)\n",
    "#             TEMPORARY_SAVE_STRING = \"\"  # 清空暫存字串\n",
    "#     except Exception as e:\n",
    "#         print(f\"Error processing row {index}: {e}\")\n",
    "# if TEMPORARY_SAVE_STRING:\n",
    "#     with open(SAVE_RESULT_PATH, \"a\") as file:\n",
    "#         file.write(TEMPORARY_SAVE_STRING)\n",
    "\n",
    "# print(\"Processing complete and all summaries have been saved step-by-step in JSON.\")"
   ]
  },
  {
   "cell_type": "markdown",
   "id": "fed0df58-a7de-421f-abdc-d004799115fc",
   "metadata": {},
   "source": [
    "# (完成) ollama 用 「cnn highlight 的 words 比例」為目標改寫\n",
    "\n",
    "[3:25:07]"
   ]
  },
  {
   "cell_type": "code",
   "execution_count": 10,
   "id": "df7b4706-76a9-4304-ae04-abcd281dfa20",
   "metadata": {},
   "outputs": [
    {
     "name": "stderr",
     "output_type": "stream",
     "text": [
      "highlight articles: 100%|██████████████████████████████████████████████████████| 11490/11490 [3:25:07<00:00,  1.07s/it]"
     ]
    },
    {
     "name": "stdout",
     "output_type": "stream",
     "text": [
      "Processing complete and all summaries have been saved step-by-step in JSON.\n"
     ]
    },
    {
     "name": "stderr",
     "output_type": "stream",
     "text": [
      "\n"
     ]
    }
   ],
   "source": [
    "SAVE_RESULT_PATH = \"./dat/cnn_dailymail_test-ollama_cnn_highlight_words_ratio.dat\"  # 儲存檔案名稱\n",
    "SAVE_EVERY_NUM = 5  # 每跑完幾筆資料就儲存\n",
    "TEMPORARY_SAVE_STRING = \"\"  # 暫時儲存字串\n",
    "START_INDEX = 0  # 開始的索引\n",
    "for index, row in tqdm(df.iloc[START_INDEX:].iterrows(), total=len(df) - START_INDEX, desc=\"highlight articles\"):\n",
    "    try:\n",
    "        article_id = row['id']\n",
    "        article = row['article']\n",
    "        cnn_highlights_article = row['highlights']\n",
    "        \n",
    "        ratio = count_words(cnn_highlights_article) / count_words(article)\n",
    "        words_result = ask_ollama(article, system_prompt_ratio(f'{ratio:.2f}'))\n",
    "        \n",
    "        TEMPORARY_SAVE_STRING += f\"{article_id}, {json.dumps(words_result)}\\n\"\n",
    "\n",
    "        if index % SAVE_EVERY_NUM == 0:\n",
    "            with open(SAVE_RESULT_PATH, \"a\") as file:\n",
    "                file.write(TEMPORARY_SAVE_STRING)\n",
    "            TEMPORARY_SAVE_STRING = \"\"  # 清空暫存字串\n",
    "    except Exception as e:\n",
    "        print(f\"Error processing row {index}: {e}\")\n",
    "if TEMPORARY_SAVE_STRING:\n",
    "    with open(SAVE_RESULT_PATH, \"a\") as file:\n",
    "        file.write(TEMPORARY_SAVE_STRING)\n",
    "\n",
    "print(\"Processing complete and all summaries have been saved step-by-step in JSON.\")"
   ]
  },
  {
   "cell_type": "markdown",
   "id": "75f8d9f6-3fba-415c-9f59-6176dbc7ee38",
   "metadata": {},
   "source": [
    "# (完成) ollama 用 llama highlight 的 words 比例」為目標改寫\n",
    "\n",
    "[5:04:32]"
   ]
  },
  {
   "cell_type": "code",
   "execution_count": 11,
   "id": "a93340e0-85a2-4f1e-9fb7-a5b1ab51b03e",
   "metadata": {},
   "outputs": [
    {
     "name": "stderr",
     "output_type": "stream",
     "text": [
      "highlight articles: 100%|██████████████████████████████████████████████████████| 11490/11490 [5:04:32<00:00,  1.59s/it]"
     ]
    },
    {
     "name": "stdout",
     "output_type": "stream",
     "text": [
      "Processing complete and all summaries have been saved step-by-step in JSON.\n"
     ]
    },
    {
     "name": "stderr",
     "output_type": "stream",
     "text": [
      "\n"
     ]
    }
   ],
   "source": [
    "SAVE_RESULT_PATH = \"./dat/cnn_dailymail_test-ollama_highlight_words_ratio.dat\"  # 儲存檔案名稱\n",
    "SAVE_EVERY_NUM = 5  # 每跑完幾筆資料就儲存\n",
    "TEMPORARY_SAVE_STRING = \"\"  # 暫時儲存字串\n",
    "START_INDEX = 0  # 開始的索引\n",
    "for index, row in tqdm(df.iloc[START_INDEX:].iterrows(), total=len(df) - START_INDEX, desc=\"highlight articles\"):\n",
    "    try:\n",
    "        article_id = row['id']\n",
    "        article = row['article']\n",
    "        llama_highlighted_article = llama_highlighted['article'][index]\n",
    "        \n",
    "        ratio = count_words(llama_highlighted_article) / count_words(article)\n",
    "        words_result = ask_ollama(article, system_prompt_ratio(f'{ratio:.2f}'))\n",
    "        \n",
    "        TEMPORARY_SAVE_STRING += f\"{article_id}, {json.dumps(words_result)}\\n\"\n",
    "\n",
    "        if index % SAVE_EVERY_NUM == 0:\n",
    "            with open(SAVE_RESULT_PATH, \"a\") as file:\n",
    "                file.write(TEMPORARY_SAVE_STRING)\n",
    "            TEMPORARY_SAVE_STRING = \"\"  # 清空暫存字串\n",
    "    except Exception as e:\n",
    "        print(f\"Error processing row {index}: {e}\")\n",
    "if TEMPORARY_SAVE_STRING:\n",
    "    with open(SAVE_RESULT_PATH, \"a\") as file:\n",
    "        file.write(TEMPORARY_SAVE_STRING)\n",
    "\n",
    "print(\"Processing complete and all summaries have been saved step-by-step in JSON.\")"
   ]
  },
  {
   "cell_type": "code",
   "execution_count": null,
   "id": "fb072391-8279-4832-bf0d-4a23dd38fb27",
   "metadata": {},
   "outputs": [],
   "source": []
  },
  {
   "cell_type": "markdown",
   "id": "03f9fd5c-9dfb-47bf-8d4c-c459ba7188b0",
   "metadata": {},
   "source": [
    "# 檢查 llama3.1 生成出來的壓縮比"
   ]
  },
  {
   "cell_type": "code",
   "execution_count": 31,
   "id": "92a24731-3105-4036-891f-12d340ce39d0",
   "metadata": {},
   "outputs": [
    {
     "name": "stdout",
     "output_type": "stream",
     "text": [
      "words ratio = highlight(36 words) / article(270 words) = 0.13333333333333333\n",
      "\n",
      "\n",
      "ratio result (101 words):\n",
      "Palestinian Authority became ICC's 123rd member, gaining jurisdiction over alleged crimes in Palestinian territories. They signed Rome Statute in January and accepted ICC jurisdiction over crimes since June 13, 2014. This allows for possible war crimes investigations against Israelis. Israel and US opposed the move, but Palestinian FM Riad al-Malki said it brings an end to impunity and injustice. Palestinians may be subject to counter-charges as well. Human Rights Watch welcomed the development, calling on governments to stop pressure against Palestine's ICC membership. ICC opened preliminary examination into situation in Palestinian territories in January, including alleged war crimes since June 2014.\n",
      "\n",
      "\n",
      "words result (24 words):\n",
      "Palestinians join ICC as its 123rd member, granting court jurisdiction over alleged crimes in occupied territories, allowing for possible war crimes investigations against Israelis.\n",
      "\n",
      "\n"
     ]
    }
   ],
   "source": [
    "def count_words(text):\n",
    "    return len(text.split())\n",
    "    \n",
    "text = pd.read_csv(\"dat/cnn_dailymail_test-ollama_highlight_words.csv\")\n",
    "\n",
    "_article = text['article'][0]\n",
    "_highlight = df['highlights'][0]\n",
    "\n",
    "_article_words = count_words(_article)\n",
    "_highlight_words = count_words(_highlight)\n",
    "_ratio_words = _highlight_words / _article_words\n",
    "print(f\"words ratio = highlight({_highlight_words} words) / article({_article_words} words) = {_ratio_words}\\n\\n\")\n",
    "\n",
    "words_ratio_result = ask_ollama(_article, system_prompt_ratio(_ratio_words))\n",
    "print(f\"ratio result ({count_words(words_ratio_result)} words):\\n{words_ratio_result}\\n\\n\")\n",
    "\n",
    "words_result = ask_ollama(_article, system_prompt_words(_highlight_words))\n",
    "print(f\"words result ({count_words(words_result)} words):\\n{words_result}\\n\\n\")"
   ]
  },
  {
   "cell_type": "markdown",
   "id": "1b1872fe-7283-495d-b7e7-0a18403c08dc",
   "metadata": {},
   "source": []
  },
  {
   "cell_type": "code",
   "execution_count": 33,
   "id": "0b7eda77-2237-4a23-aefb-c07ecbf72e38",
   "metadata": {},
   "outputs": [
    {
     "name": "stdout",
     "output_type": "stream",
     "text": [
      "token ratio = highlight(41 token) / article(247 token) = 0.1659919028340081\n",
      "\n",
      "\n",
      "ratio result (105 token):\n",
      "Palestine formally joined the International Criminal Court (ICC) on Wednesday, becoming its 123rd member. This gives the ICC jurisdiction over alleged crimes in Palestinian territories since June 2014, including East Jerusalem. The move allows Palestinians to be subject to counter-charges as well. Israel and the US opposed Palestine's membership bid but Palestinian Foreign Minister Riad al-Malki hailed it as a step towards justice. The ICC will now consider war crime allegations against Israelis, with rights group Human Rights Watch welcoming the development.\n",
      "\n",
      "\n",
      "token result (77 token):\n",
      "Palestinian Authority joins International Criminal Court, becoming 123rd member. This gives the court jurisdiction over alleged crimes in Palestinian territories. Ceremony held at The Hague. Palestinians may now face counter-charges. Israel and US opposed membership. Palestinian FM Riad al-Malki sees this as a step toward justice. ICC to consider war crimes since June 2014, including East Jerusalem.\n",
      "\n",
      "\n"
     ]
    }
   ],
   "source": [
    "from transformers import BartTokenizer\n",
    "\n",
    "tokenizer = BartTokenizer.from_pretrained('facebook/bart-large-cnn')\n",
    "def count_token(text):\n",
    "    return len(tokenizer.encode(text, return_tensors=\"pt\", add_special_tokens=True)[0])\n",
    "\n",
    "text = pd.read_csv(\"dat/cnn_dailymail_test-ollama_highlight_token_ratio.csv\")\n",
    "\n",
    "_article = text['article'][0]\n",
    "_highlight = df['highlights'][0]\n",
    "\n",
    "_article_token = count_token(_article)\n",
    "_highlight_token = count_token(_highlight)\n",
    "_ratio_token = _highlight_token / _article_token\n",
    "print(f\"token ratio = highlight({_highlight_token} token) / article({_article_token} token) = {_ratio_token}\\n\\n\")\n",
    "\n",
    "token_ratio_result = ask_ollama(_article, system_prompt_ratio(_ratio_token))\n",
    "print(f\"ratio result ({count_token(token_ratio_result)} token):\\n{token_ratio_result}\\n\\n\")\n",
    "\n",
    "token_result = ask_ollama(_article, system_prompt_token(_highlight_token))\n",
    "print(f\"token result ({count_token(token_result)} token):\\n{token_result}\\n\\n\")"
   ]
  },
  {
   "cell_type": "code",
   "execution_count": null,
   "id": "5dc71deb-b047-45e6-85e1-bd2207ab9eaa",
   "metadata": {},
   "outputs": [],
   "source": []
  }
 ],
 "metadata": {
  "kernelspec": {
   "display_name": "Python 3 (ipykernel)",
   "language": "python",
   "name": "python3"
  },
  "language_info": {
   "codemirror_mode": {
    "name": "ipython",
    "version": 3
   },
   "file_extension": ".py",
   "mimetype": "text/x-python",
   "name": "python",
   "nbconvert_exporter": "python",
   "pygments_lexer": "ipython3",
   "version": "3.12.2"
  }
 },
 "nbformat": 4,
 "nbformat_minor": 5
}
