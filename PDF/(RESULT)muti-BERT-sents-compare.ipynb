{
 "cells": [
  {
   "cell_type": "code",
   "execution_count": 50,
   "id": "48e9166e-7a39-4fc1-8775-49486f93f759",
   "metadata": {},
   "outputs": [],
   "source": [
    "import json\n",
    "import numpy as np\n",
    "import matplotlib.pyplot as plt"
   ]
  },
  {
   "cell_type": "code",
   "execution_count": 4,
   "id": "9b805d9b-27e6-407f-aef2-bdc2c37add90",
   "metadata": {},
   "outputs": [
    {
     "name": "stdout",
     "output_type": "stream",
     "text": [
      "dat/cnn_dailymail_test-BERT-rouge_scores.json\n",
      "dat/cnn_dailymail_test-BERT.json\n"
     ]
    }
   ],
   "source": [
    "ls dat/*.json"
   ]
  },
  {
   "cell_type": "code",
   "execution_count": 43,
   "id": "e56766bc-72ee-4b7a-a233-c46490094591",
   "metadata": {},
   "outputs": [],
   "source": [
    "# with open(r'dat/cnn_dailymail_test-BERT.json', 'r') as f:\n",
    "#     bert_summarized_articles = json.load(f)\n",
    "with open(r'dat/cnn_dailymail_test-BERT-rouge_scores.json', 'r') as f:\n",
    "    bert_summarized_rouges = json.load(f)"
   ]
  },
  {
   "cell_type": "code",
   "execution_count": 88,
   "id": "4e8241d7-fc6f-42ff-ad8d-2751670419a0",
   "metadata": {},
   "outputs": [],
   "source": [
    "num_num_all = []\n",
    "center_num_all = []\n",
    "\n",
    "bert_sents_and_rouge_1 = {}\n",
    "for bert_summarized_rouge in bert_summarized_rouges.values():\n",
    "    num_sents = [int(n) for n in bert_summarized_rouge.keys()]\n",
    "    center_index = len(num_sents)//2\n",
    "    center_num_all.append(center_index)\n",
    "    \n",
    "    for num_sent in num_sents:\n",
    "        delta_num = num_sent - num_sents[center_index]\n",
    "        num_num_all.append(num_sent)\n",
    "        if not str(delta_num) in bert_sents_and_rouge_1:\n",
    "            bert_sents_and_rouge_1[str(delta_num)] = []\n",
    "        bert_sents_and_rouge_1[str(delta_num)].append(bert_summarized_rouge[str(num_sent)])\n",
    "for delta_num in bert_sents_and_rouge_1:\n",
    "    bert_sents_and_rouge_1[delta_num] = np.array(bert_sents_and_rouge_1[delta_num])"
   ]
  },
  {
   "cell_type": "code",
   "execution_count": 110,
   "id": "bda5b23d-0fbb-4e81-83ce-aad86f14fdfb",
   "metadata": {},
   "outputs": [
    {
     "name": "stdout",
     "output_type": "stream",
     "text": [
      " -3: [0.31440097 0.10805526 0.2010054 ]\n",
      " -2: [0.33483171 0.11756353 0.21277826]\n",
      " -1: [0.34552481 0.1217239  0.21552818]\n",
      "  0: [0.33965318 0.12175856 0.20947238]\n",
      "  1: [0.32683193 0.11942583 0.20034731]\n",
      "  2: [0.3190175  0.12018713 0.19447381]\n",
      "  3: [0.32509115 0.12595989 0.19360689]\n"
     ]
    }
   ],
   "source": [
    "for delta_num in sorted(bert_sents_and_rouge_1.keys(), key=int):\n",
    "    rouges = bert_sents_and_rouge_1[delta_num]\n",
    "    means = np.mean(rouges, axis=0)\n",
    "    print(f'{delta_num:>3}: {means}')"
   ]
  },
  {
   "cell_type": "code",
   "execution_count": null,
   "id": "d53c06e8-a8fe-4386-9d58-2225ec855a16",
   "metadata": {},
   "outputs": [],
   "source": []
  },
  {
   "cell_type": "code",
   "execution_count": 131,
   "id": "cefbb243-bb3a-4fcb-8673-b261a985778b",
   "metadata": {},
   "outputs": [],
   "source": [
    "num_num_all = []\n",
    "center_num_all = []\n",
    "\n",
    "bert_sents_and_rouge_1 = {}\n",
    "for bert_summarized_rouge in bert_summarized_rouges.values():\n",
    "    num_sents = [int(n) for n in bert_summarized_rouge.keys()]\n",
    "    center_index = len(num_sents)//2\n",
    "    center_num_all.append(center_index)\n",
    "\n",
    "    max_rouges = [0, 0, 0] \n",
    "    for num_sent in num_sents:\n",
    "        rouges = bert_summarized_rouge[str(num_sent)]\n",
    "        for i in range(3):\n",
    "            if rouges[i] > max_rouges[i]:\n",
    "                max_rouges[i] = rouges[i]\n",
    "    for i in range(3):\n",
    "        if max_rouges[i] == 0:\n",
    "            max_rouges[i] = 1.0\n",
    "    for num_sent in num_sents:\n",
    "        bert_summarized_rouge[str(num_sent)] = [bert_summarized_rouge[str(num_sent)][i]/max_rouges[i] for i in range(3)]\n",
    "        \n",
    "    for num_sent in num_sents:\n",
    "        delta_num = num_sent - num_sents[center_index]\n",
    "        num_num_all.append(num_sent)\n",
    "        if not str(delta_num) in bert_sents_and_rouge_1:\n",
    "            bert_sents_and_rouge_1[str(delta_num)] = []\n",
    "        bert_sents_and_rouge_1[str(delta_num)].append(bert_summarized_rouge[str(num_sent)])\n",
    "for delta_num in bert_sents_and_rouge_1:\n",
    "    bert_sents_and_rouge_1[delta_num] = np.array(bert_sents_and_rouge_1[delta_num])"
   ]
  },
  {
   "cell_type": "code",
   "execution_count": 133,
   "id": "4354350c-c1bb-464b-9f64-d7ec607c5ef0",
   "metadata": {},
   "outputs": [
    {
     "name": "stdout",
     "output_type": "stream",
     "text": [
      " -3: [0.7590701  0.59817306 0.77745918]\n",
      " -2: [0.82738957 0.64148537 0.81343702]\n",
      " -1: [0.86988739 0.67816389 0.83116606]\n",
      "  0: [0.86334562 0.68869546 0.81441415]\n",
      "  1: [0.83118893 0.68730453 0.78134297]\n",
      "  2: [0.80117681 0.69317481 0.75595913]\n",
      "  3: [0.79044541 0.71596473 0.74981348]\n"
     ]
    }
   ],
   "source": [
    "for delta_num in sorted(bert_sents_and_rouge_1.keys(), key=int):\n",
    "    rouges = bert_sents_and_rouge_1[delta_num]\n",
    "    means = np.mean(rouges, axis=0)\n",
    "    print(f'{delta_num:>3}: {means}')"
   ]
  },
  {
   "cell_type": "markdown",
   "id": "19b6155a-327a-4d81-81ce-3ffb136e9bec",
   "metadata": {},
   "source": [
    "# 這個結果是在看，BERT one-layer 的結果，delta_num = [-3 ~ 3] 這是生成句子數的數量差異，後面是ROUGE的平均，結果來看，少生成一句話好一點。"
   ]
  }
 ],
 "metadata": {
  "kernelspec": {
   "display_name": "Python 3 (ipykernel)",
   "language": "python",
   "name": "python3"
  },
  "language_info": {
   "codemirror_mode": {
    "name": "ipython",
    "version": 3
   },
   "file_extension": ".py",
   "mimetype": "text/x-python",
   "name": "python",
   "nbconvert_exporter": "python",
   "pygments_lexer": "ipython3",
   "version": "3.12.7"
  }
 },
 "nbformat": 4,
 "nbformat_minor": 5
}
